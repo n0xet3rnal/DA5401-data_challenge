{
 "cells": [
  {
   "cell_type": "code",
   "execution_count": 1,
   "id": "d905d35f",
   "metadata": {},
   "outputs": [
    {
     "name": "stderr",
     "output_type": "stream",
     "text": [
      "/home/jerryjose/miniconda3/envs/ml_env/lib/python3.10/site-packages/tqdm/auto.py:21: TqdmWarning: IProgress not found. Please update jupyter and ipywidgets. See https://ipywidgets.readthedocs.io/en/stable/user_install.html\n",
      "  from .autonotebook import tqdm as notebook_tqdm\n"
     ]
    }
   ],
   "source": [
    "from project_utils import  *\n",
    "import pandas as pd\n",
    "\n",
    "with open(\"data/train_data_embedded.json\", \"r\") as f:\n",
    "    train_data = pd.read_json(f, lines=True)\n"
   ]
  },
  {
   "cell_type": "code",
   "execution_count": null,
   "id": "acc7b4b8",
   "metadata": {},
   "outputs": [],
   "source": [
    "rel_features = ['metric_name', 'user_prompt', 'response', 'system_prompt']\n",
    "#create all possible 2 combinations of rel_features\n",
    "ed_rel_features = []\n",
    "for i in range(len(rel_features)):\n",
    "    for j in range(i + 1, len(rel_features)):\n",
    "        ed_rel_features.append((rel_features[i], rel_features[j]))\n",
    "ed_only_config = {'euclidean_distances': ed_rel_features,}\n",
    "\n",
    "\n",
    "fe = FeatureEngineer(train_data, ed_only_config)\n",
    "df_features = fe.create_features()\n",
    "df_features.set_index('index')\n",
    "\n",
    "data_gen = DataGenerator(df_features, test_fraction=0.2, fold_k=4, metric_column='main_metric')\n",
    "dataset = data_gen.generate_splits()\n",
    "cross_val_set = dataset['cv_splits']\n",
    "cross_val_set[0][0]['score']\n",
    "\n",
    "#train a simple lightgbm model on the cross validation set\n",
    "from lightgbm import LGBMRegressor\n",
    "from sklearn.metrics import mean_squared_error\n",
    "\n",
    "model = LGBMRegressor()\n",
    "\n",
    "X_train,y_train  = prepare_final(cross_val_set[0][0])\n",
    "X_test, y_test = prepare_final(cross_val_set[0][1])\n",
    "\n",
    "model.fit(X_train,y_train)\n",
    "\n",
    "preds_base_model = model.predict(X_test).round(0)\n",
    "mse_base_model = mean_squared_error(y_test, preds_base_model)\n",
    "\n",
    "print(f\"MSE:{mse_base_model}\")\n",
    "\n",
    "\n",
    "#display first 5 entries of preds and y_test side by side\n",
    "\n"
   ]
  },
  {
   "cell_type": "code",
   "execution_count": null,
   "id": "2f95bbad",
   "metadata": {},
   "outputs": [],
   "source": []
  }
 ],
 "metadata": {
  "kernelspec": {
   "display_name": "ml_env",
   "language": "python",
   "name": "python3"
  },
  "language_info": {
   "codemirror_mode": {
    "name": "ipython",
    "version": 3
   },
   "file_extension": ".py",
   "mimetype": "text/x-python",
   "name": "python",
   "nbconvert_exporter": "python",
   "pygments_lexer": "ipython3",
   "version": "3.10.19"
  }
 },
 "nbformat": 4,
 "nbformat_minor": 5
}
